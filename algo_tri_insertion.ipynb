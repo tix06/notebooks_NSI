{
 "cells": [
  {
   "cell_type": "markdown",
   "id": "trying-saturday",
   "metadata": {},
   "source": [
    "# Traitement de données en table\n",
    "## Etablir une communication avec le fichier csv\n",
    "Les tables de types Excel peuvent être enregistrées en format csv.\n",
    "\n",
    "On peut parcourir leur contenu avec:\n",
    "\n",
    "```\n",
    "f = open(”06_prix_gazoil.csv”, ”r”)\n",
    "t = f.read()\n",
    "print(t)\n",
    "# affiche l’intégralité du fichier\n",
    "```\n"
   ]
  },
  {
   "cell_type": "code",
   "execution_count": null,
   "id": "eight-format",
   "metadata": {},
   "outputs": [],
   "source": [
    "f = open(\"datas/prix_gazoil.csv\", \"r\", encoding='utf-8-sig')\n",
    "t = f.read()\n",
    "print(t)\n",
    "# affiche l’intégralité du fichier\n",
    "f.close()"
   ]
  },
  {
   "cell_type": "markdown",
   "id": "alternative-population",
   "metadata": {},
   "source": [
    "## Créer une liste à partir des lignes du fichier\n",
    "Pour manipuler les données du fichier, on stocke dans une liste. Chaque ligne du fichier est un élément de liste. A ce stade, chaque ligne du fichier est une chaine de caracteres.\n",
    "\n",
    "Remplacer `t = f.read()` par `t = f.readlines()` dans le script précédent"
   ]
  },
  {
   "cell_type": "code",
   "execution_count": null,
   "id": "subjective-renaissance",
   "metadata": {},
   "outputs": [],
   "source": []
  },
  {
   "cell_type": "markdown",
   "id": "framed-employment",
   "metadata": {},
   "source": [
    "## Explorer la liste\n",
    "(executer la cellule contenant `t[0]`"
   ]
  },
  {
   "cell_type": "code",
   "execution_count": null,
   "id": "norman-waterproof",
   "metadata": {},
   "outputs": [],
   "source": [
    "t[0]"
   ]
  },
  {
   "cell_type": "markdown",
   "id": "individual-abuse",
   "metadata": {},
   "source": [
    "## Nettoyer chaque ligne\n",
    "Les caractères de retour à la ligne `\\n` doivent être supprimés. Utiliser la méthode `.strip('\\n')` "
   ]
  },
  {
   "cell_type": "code",
   "execution_count": null,
   "id": "unnecessary-marks",
   "metadata": {},
   "outputs": [],
   "source": [
    "t[0].strip('\\n')"
   ]
  },
  {
   "cell_type": "markdown",
   "id": "signed-dubai",
   "metadata": {},
   "source": [
    "## Créer une liste de tuples\n",
    "On sait maintenant que les informations dans chaque ligne sont séparés par des points virgules `;`. \n",
    "\n",
    "On parcourt la liste `t`, on découpe chaque élément (ligne) au niveau du séparateur `;` avec la méthode `split(\";\")`. On créé un tuple à partir de ces éléments:"
   ]
  },
  {
   "cell_type": "code",
   "execution_count": null,
   "id": "reserved-baptist",
   "metadata": {},
   "outputs": [],
   "source": [
    "for station in t:\n",
    "    station = station.strip('\\n')\n",
    "    L = tuple(station.split(\";\"))\n",
    "    print(L)"
   ]
  },
  {
   "cell_type": "markdown",
   "id": "identified-cancer",
   "metadata": {},
   "source": [
    "## Créer une liste de tuples\n",
    "On enlève le premier élément de `t`, `('Station', 'Ville', 'Distance', 'Gazoil'` en prenant `t[1:]` \n",
    "\n",
    "On ajoute chacun de ces tuples dans une liste que l'on appelera `station`, avec la methode `.append()`:"
   ]
  },
  {
   "cell_type": "code",
   "execution_count": null,
   "id": "national-exercise",
   "metadata": {},
   "outputs": [],
   "source": [
    "stations = []\n",
    "for station in t[1:]:\n",
    "    station = station.strip('\\n')\n",
    "    L = tuple(station.split(\";\"))\n",
    "    stations.append(L)"
   ]
  },
  {
   "cell_type": "code",
   "execution_count": null,
   "id": "introductory-tobacco",
   "metadata": {},
   "outputs": [],
   "source": [
    "stations"
   ]
  },
  {
   "cell_type": "markdown",
   "id": "coupled-newspaper",
   "metadata": {},
   "source": [
    "# Programmation d'un algo de tri par insertion\n",
    "On rappelle le programme utilisé pour la tri par insertion:\n",
    "    \n",
    "```\n",
    "def tri1(table):\n",
    "    for k in range(len(table)):\n",
    "        temp = table[k]\n",
    "        j = k\n",
    "        while j>0 and table[j-1]>temp:\n",
    "            table[j]=table[j-1]\n",
    "            j-=1\n",
    "        table[j]=temp\n",
    "    return table\n",
    "```\n"
   ]
  },
  {
   "cell_type": "markdown",
   "id": "stainless-gasoline",
   "metadata": {},
   "source": [
    "### Utiliser cette fonction pour trier la table vue en activité\n",
    "\n",
    "`t = [1.5, 3.1, 2.2, 0.9, 3.9, 2.5, 0.7, 3.0, 2.7, 3.6, 3.4, 1.3, 0.4, 1.8, 1.1, 2.1]`"
   ]
  },
  {
   "cell_type": "code",
   "execution_count": null,
   "id": "impossible-naples",
   "metadata": {},
   "outputs": [],
   "source": []
  },
  {
   "cell_type": "markdown",
   "id": "recreational-heading",
   "metadata": {},
   "source": [
    "### Utiliser cette fonction pour trier les stations par prix du gazoil croissant\n",
    "La liste sera `stations`, et la clé: `stations[3]` \n",
    "\n",
    "La nouvelle fonction `tri2` sera semblable à celle `tri1`, avec la modification suivante:\n",
    "\n",
    "La clé de tri étant `table[k][3]`, il faut comparer les éléments selon cette clé de tri. Remplacer\n",
    " \n",
    "```\n",
    "table[j-1]>temp\n",
    "```\n",
    "\n",
    "par \n",
    "\n",
    "```\n",
    "table[j-1][3]>temp[3]\n",
    "```"
   ]
  },
  {
   "cell_type": "code",
   "execution_count": null,
   "id": "global-south",
   "metadata": {},
   "outputs": [],
   "source": [
    "f = open(\"datas/prix_gazoil.csv\", \"r\", encoding='utf-8-sig')\n",
    "t = f.readlines()\n",
    "f.close()\n",
    "\n",
    "stations = []\n",
    "for station in t[1:]:\n",
    "    station = station.strip('\\n')\n",
    "    L = tuple(station.split(\";\"))\n",
    "    stations.append(L)"
   ]
  },
  {
   "cell_type": "code",
   "execution_count": null,
   "id": "consecutive-congo",
   "metadata": {},
   "outputs": [],
   "source": [
    "def tri2(table):\n",
    "    for k in range(len(table)):\n",
    "        \n",
    "        # à compléter\n",
    "        \n",
    "    return table"
   ]
  },
  {
   "cell_type": "markdown",
   "id": "median-prince",
   "metadata": {},
   "source": [
    "### Utiliser cette fonction pour trier les stations selon leur éloignement"
   ]
  },
  {
   "cell_type": "code",
   "execution_count": null,
   "id": "scheduled-bangladesh",
   "metadata": {},
   "outputs": [],
   "source": []
  }
 ],
 "metadata": {
  "kernelspec": {
   "display_name": "Python 3",
   "language": "python",
   "name": "python3"
  },
  "language_info": {
   "codemirror_mode": {
    "name": "ipython",
    "version": 3
   },
   "file_extension": ".py",
   "mimetype": "text/x-python",
   "name": "python",
   "nbconvert_exporter": "python",
   "pygments_lexer": "ipython3",
   "version": "3.7.9"
  }
 },
 "nbformat": 4,
 "nbformat_minor": 5
}
