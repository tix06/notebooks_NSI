{
 "cells": [
  {
   "cell_type": "markdown",
   "id": "overhead-battle",
   "metadata": {},
   "source": [
    "# NSI 1ere: SEQUENCES\n",
    "(TP en lien avec les fiches 1 et 2 sur les séquences)\n",
    "## Exercices de niveau facile\n",
    "#### 1. Executer la cellule suivante. En déduire le rôle de la fonction `list`"
   ]
  },
  {
   "cell_type": "code",
   "execution_count": null,
   "id": "necessary-terrorism",
   "metadata": {},
   "outputs": [],
   "source": [
    "mot = \"amor\"\n",
    "L = list(mot)\n",
    "L"
   ]
  },
  {
   "cell_type": "markdown",
   "id": "korean-money",
   "metadata": {},
   "source": [
    "#### 2. Insérer la lettre 'u' pour que L devienne ['a', 'm', 'o', 'u', 'r']"
   ]
  },
  {
   "cell_type": "code",
   "execution_count": null,
   "id": "individual-merchandise",
   "metadata": {},
   "outputs": [],
   "source": []
  },
  {
   "cell_type": "markdown",
   "id": "accompanied-lending",
   "metadata": {},
   "source": [
    "#### 3. Le script suivant permet d'afficher les éléments de liste, du premier au dernier. Executer la cellule"
   ]
  },
  {
   "cell_type": "code",
   "execution_count": null,
   "id": "liked-biography",
   "metadata": {},
   "outputs": [],
   "source": [
    "mot = \"amor\"\n",
    "L = list(mot)\n",
    "\n",
    "for lettre in L:\n",
    "    print(lettre)"
   ]
  },
  {
   "cell_type": "markdown",
   "id": "exempt-insert",
   "metadata": {},
   "source": [
    "#### 4. On peut aussi parcourir une liste à partir des indices. On utilise alors comme itérable: `range(len(L))`: (executer la cellule suivante)"
   ]
  },
  {
   "cell_type": "code",
   "execution_count": null,
   "id": "sound-participation",
   "metadata": {},
   "outputs": [],
   "source": [
    "for rang in range(len(L)):\n",
    "    print(rang, L[rang])"
   ]
  },
  {
   "cell_type": "markdown",
   "id": "continental-nothing",
   "metadata": {},
   "source": [
    "#### 5. Ecrire une boucle bornée qui écrit:\n",
    "```\n",
    "0 r\n",
    "1 o\n",
    "2 m\n",
    "3 a\n",
    "```\n",
    "\n",
    "Vous ne devez pas modifier la liste L d'origine. Juste afficher les caractères en partant du dernier, jusqu'au premier."
   ]
  },
  {
   "cell_type": "code",
   "execution_count": null,
   "id": "decimal-departure",
   "metadata": {},
   "outputs": [],
   "source": []
  },
  {
   "cell_type": "markdown",
   "id": "complimentary-wisconsin",
   "metadata": {},
   "source": [
    "On créé une nouvelle liste (vide), appelée L2 avec `L2 = []`\n",
    "#### 6. Utiliser l'une des boucles bornées vues plus haut pour remplir la liste L2 avec ['r','o','m','a']\n",
    "On utilisera la méthode de liste `append()`"
   ]
  },
  {
   "cell_type": "code",
   "execution_count": null,
   "id": "confused-manhattan",
   "metadata": {},
   "outputs": [],
   "source": [
    "L2 = []\n",
    "# script à compléter\n",
    "L2"
   ]
  },
  {
   "cell_type": "markdown",
   "id": "fifty-patent",
   "metadata": {},
   "source": [
    "## Exercices de niveau intermédiaire"
   ]
  },
  {
   "cell_type": "markdown",
   "id": "defined-antarctica",
   "metadata": {},
   "source": [
    "#### 1. Liste inverse\n",
    "Completer le script de la fonction `inverse`. Celle-ci a pour paramètre une liste L1, et retourne une liste L2 qui contient les mêmes éléments que L1, mais en sens inverse.\n",
    "\n",
    "*Exemple:*\n",
    "\n",
    "```python\n",
    ">>> inverse([['a', 'm', 'o', 'r'])\n",
    "['r','o','m','a']\n",
    "```"
   ]
  },
  {
   "cell_type": "code",
   "execution_count": null,
   "id": "conventional-puzzle",
   "metadata": {},
   "outputs": [],
   "source": [
    "def inverse(L1):\n",
    "    \"\"\"inverse les elements de la liste L1\n",
    "    @return:\n",
    "    L2: liste inversee\n",
    "    \"\"\"\n",
    "    # à completer\n",
    "    return L2\n",
    "\n",
    "inverse(['a', 'm', 'o', 'u', 'r'])"
   ]
  },
  {
   "cell_type": "markdown",
   "id": "dirty-wheel",
   "metadata": {},
   "source": [
    "#### 2. Remplir une liste à partir d'éléments calculés: boucle bornée\n",
    "Compléter le script suivant qui permet de créer la liste: \n",
    "\n",
    "`[0, 3, 6, 9, 12, 15, 18, 21, 24, 27, 30`"
   ]
  },
  {
   "cell_type": "code",
   "execution_count": null,
   "id": "anonymous-output",
   "metadata": {},
   "outputs": [],
   "source": [
    "L = []\n",
    "for i in range(#): # à compléter \n",
    "  L.append(#) # à compléter\n",
    "L"
   ]
  },
  {
   "cell_type": "markdown",
   "id": "clear-dialogue",
   "metadata": {},
   "source": [
    "#### 3. Méthode par compréhension de liste\n",
    "Cette méthode consiste à écrire la boucle bornée directement entre les crochets `[]`\n",
    "\n",
    "On utilise alors le variant de boucle pour écrire la suite numerique qui calcule les valeurs:\n",
    "\n",
    "```\n",
    "L = [<suite numerique sur i> for i in range(iterable)]\n",
    "# exemple\n",
    "L = [i * 3 for i in range(6)]\n",
    "# L vaut [0, 3, 6, 9, 12, 15]\n",
    "```\n",
    "\n",
    "> Utiliser la méthode par compréhension pour créer la liste: `[0, 9, 18, 27, 36, 45, 54, 63, 72, 81, 90]`"
   ]
  },
  {
   "cell_type": "code",
   "execution_count": null,
   "id": "communist-nursing",
   "metadata": {},
   "outputs": [],
   "source": [
    "L = [i * # à compléter\n",
    "L"
   ]
  },
  {
   "cell_type": "markdown",
   "id": "stretch-guyana",
   "metadata": {},
   "source": [
    "#### 4. Application: remplir une liste `Alpha` contenant toutes les lettres minuscules de l'alphabet, par une méthode de compréhension de liste.\n",
    "\n",
    "*Aide:* Utiliser la fonction chr(N) qui retourne un caractère à partir de son rang dans la table ASCII:\n",
    "\n",
    "```\n",
    ">>> chr(97)\n",
    "'a'\n",
    ">>> chr(98)\n",
    "'b'\n",
    "```"
   ]
  },
  {
   "cell_type": "code",
   "execution_count": null,
   "id": "ongoing-adams",
   "metadata": {},
   "outputs": [],
   "source": [
    "Alpha = []\n",
    "# à compléter"
   ]
  },
  {
   "cell_type": "markdown",
   "id": "iraqi-soccer",
   "metadata": {},
   "source": [
    "#### 5. Utiliser la liste:\n",
    "Tester chacune des instructions:\n",
    "\n",
    "```\n",
    ">>> 'a' in Alpha\n",
    "True\n",
    ">>> 'A' in Alpha\n",
    "False\n",
    "```\n"
   ]
  },
  {
   "cell_type": "code",
   "execution_count": null,
   "id": "comfortable-canal",
   "metadata": {},
   "outputs": [],
   "source": []
  },
  {
   "cell_type": "markdown",
   "id": "third-little",
   "metadata": {},
   "source": [
    "# Suivi des variables\n",
    "#### 1. Executer le script 1"
   ]
  },
  {
   "cell_type": "code",
   "execution_count": null,
   "id": "living-cattle",
   "metadata": {},
   "outputs": [],
   "source": [
    "# script 1\n",
    "L1 = [1, 2, 3] \n",
    "L2 = L1  \n",
    "for i in range(len(L2)):\n",
    "  L2[i] += 1\n",
    "print(L1, L2)"
   ]
  },
  {
   "cell_type": "markdown",
   "id": "apart-faculty",
   "metadata": {},
   "source": [
    "#### 2. Aller sur le site <a href=\"https://pythontutor.com/visualize.html#mode=display\" target=_blank>Pythontutor</a>, et coller le script précédent dans l'editeur. Executer alors le programme *pas à pas*. Que remarquez vous à propos du contenu des 2 listes L1 et L2. S'agit-il des mêmes?"
   ]
  },
  {
   "cell_type": "markdown",
   "id": "ethical-wings",
   "metadata": {},
   "source": [
    "#### 3. Même exercice pour le script 2. Remarquez vous une différence?"
   ]
  },
  {
   "cell_type": "code",
   "execution_count": null,
   "id": "heard-reverse",
   "metadata": {},
   "outputs": [],
   "source": [
    "# script 2\n",
    "L1 = [1, 2, 3] \n",
    "L2 = list(L1)\n",
    "for i in range(len(L2)):\n",
    "  L2[i] += 1\n",
    "print(L1, L2)"
   ]
  },
  {
   "cell_type": "markdown",
   "id": "violent-techno",
   "metadata": {},
   "source": [
    "# Exercices de niveau difficile\n",
    "#### 1. Ecrire une fonction `moyenne` qui prend en paramètre une liste de nombres, et retourne leur moyenne arithmétique.\n",
    "\n",
    "*Exemple:*\n",
    "\n",
    "```\n",
    ">>> moyenne([10, 12.5, 13])\n",
    "11.833333333333334\n",
    "```\n"
   ]
  },
  {
   "cell_type": "code",
   "execution_count": null,
   "id": "spanish-extension",
   "metadata": {},
   "outputs": [],
   "source": []
  },
  {
   "cell_type": "markdown",
   "id": "employed-appraisal",
   "metadata": {},
   "source": [
    "#### 2. Ecrire une fonction `palindrome` qui prend en paramètre une chaîne de caractères et qui retourne `True` si c'est un palindrome, c'est-à-dire s'il peut se lire dans les 2 sens.\n",
    "\n",
    "*Exemple:*\n",
    "\n",
    "```\n",
    ">>> palindrome('ressasser')\n",
    "True\n",
    "```"
   ]
  },
  {
   "cell_type": "markdown",
   "id": "bright-spank",
   "metadata": {},
   "source": [
    "#### 3. Initialiser une liste `divisible_7`de 1000 booléens de valeur `False`, puis écrire une boucle qui met à `True` les éléments de la liste dont l'indice est divisible par 7.\n",
    "\n",
    "Par exemple, `divisible_7[2]` vaut `False`, alors que `divisible_7[14]` vaut `True`."
   ]
  },
  {
   "cell_type": "code",
   "execution_count": null,
   "id": "following-wednesday",
   "metadata": {},
   "outputs": [],
   "source": []
  },
  {
   "cell_type": "markdown",
   "id": "printable-convenience",
   "metadata": {},
   "source": [
    "#### 4. Ecrire une fonction `longueur_mots` qui prend en paramètre une phrase, et retourne une liste contenant la longueur des mots qui la composent. (le nombre de caractères ASCII)\n",
    "\n",
    "*Exemple:*\n",
    "\n",
    "```\n",
    ">>> longueur_mots('touche pas ce bouton')\n",
    "[6,3,2,6]\n",
    "```\n"
   ]
  },
  {
   "cell_type": "code",
   "execution_count": null,
   "id": "instructional-headquarters",
   "metadata": {},
   "outputs": [],
   "source": []
  }
 ],
 "metadata": {
  "kernelspec": {
   "display_name": "Python 3",
   "language": "python",
   "name": "python3"
  },
  "language_info": {
   "codemirror_mode": {
    "name": "ipython",
    "version": 3
   },
   "file_extension": ".py",
   "mimetype": "text/x-python",
   "name": "python",
   "nbconvert_exporter": "python",
   "pygments_lexer": "ipython3",
   "version": "3.7.9"
  }
 },
 "nbformat": 4,
 "nbformat_minor": 5
}
