{
 "cells": [
  {
   "cell_type": "markdown",
   "id": "martial-multimedia",
   "metadata": {},
   "source": [
    "# Exercice 1\n",
    "## Exploration du fichier `stations.csv`\n",
    "\n",
    "Le format CSV est l'un des formats les plus simples pour structurer des données et les transférer d'une application à une autre. C'est ce que l'on appelle l'**interopérabilité**.\n",
    "\n",
    "Pour importer le contenu d'un fichier CSV et le transformer en un tableau Python, nous utiliserons:\n",
    "\n",
    "* la méthode `open` avec le paramètre `mode='r'`, qui permet d'*ouvrir* le contenu du *fichier* en *lecture*: `fichier_ouvert = open(fichier, mode='r')`\n",
    "* `list(csv.reader(fichier_ouvert, delimiter = ','))` pour créer un tableau Python à partir du contenu CSV, en considérant le séparateur virgule ','"
   ]
  },
  {
   "cell_type": "code",
   "execution_count": 1,
   "id": "sixth-geneva",
   "metadata": {},
   "outputs": [],
   "source": [
    "import csv\n",
    "\n",
    "#ouverture du fichier csv\n",
    "def lecture_fichier(nom_fichier):\n",
    "    with open(nom_fichier, mode='r') as fichier_ouvert:\n",
    "        return list(csv.reader(fichier_ouvert,delimiter=\",\"))"
   ]
  },
  {
   "cell_type": "markdown",
   "id": "italic-vacation",
   "metadata": {},
   "source": [
    "> Ecrire une instruction utilisant la fonction `lecture_fichier`, avec l'argument approprié qui permet de lire le fichier `stations.csv` et d'affecter son contenu dans une variable appelée `table`."
   ]
  },
  {
   "cell_type": "code",
   "execution_count": 2,
   "id": "careful-reasoning",
   "metadata": {},
   "outputs": [],
   "source": []
  },
  {
   "cell_type": "markdown",
   "id": "foster-toolbox",
   "metadata": {},
   "source": [
    "> Explorer la variable `table` (afficher son contenu).\n",
    "\n",
    ">1. Quel est le type construit de la variable `table`?\n",
    "2. Que contient la première sous-liste de `table`: des descripteurs, ou des valeurs?"
   ]
  },
  {
   "cell_type": "code",
   "execution_count": null,
   "id": "artistic-recruitment",
   "metadata": {},
   "outputs": [],
   "source": []
  },
  {
   "cell_type": "markdown",
   "id": "facial-presentation",
   "metadata": {},
   "source": [
    ">3. Ecrire une instruction qui renvoie le nombre de stations de la variable `table`"
   ]
  },
  {
   "cell_type": "code",
   "execution_count": null,
   "id": "controversial-wedding",
   "metadata": {},
   "outputs": [],
   "source": []
  },
  {
   "cell_type": "markdown",
   "id": "needed-reggae",
   "metadata": {},
   "source": [
    ">4. Ecrire une instruction permettant d'afficher les descripteur de la variable `table`"
   ]
  },
  {
   "cell_type": "code",
   "execution_count": null,
   "id": "scenic-excerpt",
   "metadata": {},
   "outputs": [],
   "source": []
  },
  {
   "cell_type": "markdown",
   "id": "frank-trash",
   "metadata": {},
   "source": [
    "Une erreur de saisie de la base de données doit être corrigée. La station 22 a pour longitude 43,20° et non 49,20°.\n",
    "\n",
    ">5. Modifier par affectation la donnée correspondante de la variable `table`"
   ]
  },
  {
   "cell_type": "code",
   "execution_count": null,
   "id": "hollow-junction",
   "metadata": {},
   "outputs": [],
   "source": []
  },
  {
   "cell_type": "code",
   "execution_count": null,
   "id": "neural-ebony",
   "metadata": {},
   "outputs": [],
   "source": []
  },
  {
   "cell_type": "markdown",
   "id": "funny-background",
   "metadata": {},
   "source": [
    "# Exercice 2\n",
    "## Selection dans une table"
   ]
  },
  {
   "cell_type": "markdown",
   "id": "promising-amount",
   "metadata": {},
   "source": [
    "Phyléas, qui habite Perpignan, décide d'aller en vacances à Toulouse. Il possède un véhicule électrique, qui a une faible autonomie, de 50km. Ce qui l'oblige à anticiper son itinérairre, et prevoir les emplacements des stations de recharge."
   ]
  },
  {
   "cell_type": "code",
   "execution_count": null,
   "id": "utility-grill",
   "metadata": {},
   "outputs": [],
   "source": [
    "import csv\n",
    "#ouverture du fichier csv\n",
    "def lecture_fichier(nom_fichier):\n",
    "    with open(nom_fichier, mode='r') as fichier_ouvert:\n",
    "        return list(csv.reader(fichier_ouvert, delimiter=\",\"))\n",
    "\n",
    "def detecter_doublons(table):\n",
    "    doublons = []\n",
    "    for i in range (1, len(table)):\n",
    "        for j in range(i + 1, len(table)):\n",
    "            if table[i][1:] == table[j][1:]:\n",
    "                doublons.append([i, j])\n",
    "    return doublons\n",
    "\n",
    "def selectionner(table):\n",
    "    selection=[]\n",
    "    for i in range(1,len(table)):\n",
    "        if critere(table[i]):\n",
    "            selection.append(table[i][0])\n",
    "    return selection"
   ]
  },
  {
   "cell_type": "markdown",
   "id": "systematic-director",
   "metadata": {},
   "source": [
    "Certains fichiers de données en table peuvent contenir des lignes aux valeurs identiques, que l'on appelle des *doublons*. Seule la première colonne, l'*identifiant* est différente.\n",
    "\n",
    ">1. Charger les données du fichier `stations.csv` dans la variable `table`\n",
    "2. Afficher les lignes 19 à 25. Voyez vous des doublons dans le fichier *stations.csv*?"
   ]
  },
  {
   "cell_type": "code",
   "execution_count": null,
   "id": "exclusive-doctor",
   "metadata": {},
   "outputs": [],
   "source": []
  },
  {
   "cell_type": "markdown",
   "id": "novel-federation",
   "metadata": {},
   "source": [
    ">3. Utiliser la fonction `detecter_doublons` pour relever tous les doublons. Expliquer son fonctionnement."
   ]
  },
  {
   "cell_type": "code",
   "execution_count": null,
   "id": "optional-politics",
   "metadata": {},
   "outputs": [],
   "source": []
  },
  {
   "cell_type": "markdown",
   "id": "conservative-mitchell",
   "metadata": {},
   "source": [
    "L'instruction `del table[i]` efface la ligne d'iudice `i` de la liste `table`. \n",
    "\n",
    ">4. Ecrire une à une les instructions permettant d'enlever les doublons, **en commençant par la fin** afin de ne pas décaler les lignes."
   ]
  },
  {
   "cell_type": "code",
   "execution_count": null,
   "id": "acting-ecology",
   "metadata": {},
   "outputs": [],
   "source": []
  },
  {
   "cell_type": "markdown",
   "id": "applicable-florida",
   "metadata": {},
   "source": [
    "La fonction `selectionner` permet de *selectionner* certaines des lignes `table[i]` d'une table, celles qui retournent `True` au test:\n",
    "\n",
    "```if critere(table[i])``` \n",
    "\n",
    "`critere` est donc une fonction... que vous allez programmer.\n",
    "\n",
    "* Cette fonction prend en paramètre une ligne de la table `stations`. Appelez ce paramètre `station`\n",
    "* Cette fonction compare `station[-1]`, que l'on transformera en flottant, avec la valeur 50:\n",
    " * si cette valeur est inférieure à 50: renvoyer `True`\n",
    " * sinon, renvoyer `False` \n",
    " \n",
    "> 5. Programmer la fonction `critere`\n",
    "6. Utiliser la fonction `selectionner` pour afficher la liste des indices des stations selectionnées."
   ]
  },
  {
   "cell_type": "code",
   "execution_count": null,
   "id": "industrial-questionnaire",
   "metadata": {},
   "outputs": [],
   "source": []
  },
  {
   "cell_type": "markdown",
   "id": "rolled-disposition",
   "metadata": {},
   "source": [
    "Pour *selectionner* les informations des stations correspondantes, on pourra utiliser l'instruction suivante:"
   ]
  },
  {
   "cell_type": "code",
   "execution_count": null,
   "id": "violent-stomach",
   "metadata": {},
   "outputs": [],
   "source": [
    "selection = [station for station in table if station[0] in selectionner(table)]"
   ]
  },
  {
   "cell_type": "markdown",
   "id": "common-bible",
   "metadata": {},
   "source": [
    "C'est alors la table `selection` qui stocke les stations *séléctionnées*:"
   ]
  },
  {
   "cell_type": "code",
   "execution_count": null,
   "id": "honest-abuse",
   "metadata": {},
   "outputs": [],
   "source": [
    "selection"
   ]
  },
  {
   "cell_type": "markdown",
   "id": "everyday-municipality",
   "metadata": {},
   "source": [
    ">7. Selectionner maintenant les stations qui possèdent un *Super chargeur*, c'est à dire qui ont pour valeur `'Oui'` dans la colonne correspondante."
   ]
  },
  {
   "cell_type": "code",
   "execution_count": null,
   "id": "original-watershed",
   "metadata": {},
   "outputs": [],
   "source": []
  },
  {
   "cell_type": "markdown",
   "id": "published-cruise",
   "metadata": {},
   "source": [
    "## Projection dans une table\n",
    "La **projection** permet de créer une nouvelle table, contenant autant de lignes, mais dont on réduit le nombre de colonnes.\n",
    "\n",
    "Observer les scripts de création des listes *selection* et *projection*. \n",
    "\n",
    ">8. Quelle est la différence entre ces 2 scripts ?"
   ]
  },
  {
   "cell_type": "code",
   "execution_count": null,
   "id": "smoking-vocabulary",
   "metadata": {},
   "outputs": [],
   "source": []
  },
  {
   "cell_type": "markdown",
   "id": "secondary-trace",
   "metadata": {},
   "source": [
    "La fonction `exporter` va écrire les données en format CSV à partir d'une liste. Cette fonction prend en paramètres:\n",
    "\n",
    "* la liste (paramètre `tableau`)\n",
    "* le nom du fichier, dont on choisira pour extension .csv ou .txt (penser à écrire le nom entre guillemets, c'est une chaine de caractères)"
   ]
  },
  {
   "cell_type": "code",
   "execution_count": null,
   "id": "seasonal-vienna",
   "metadata": {},
   "outputs": [],
   "source": [
    "def exporter(tableau,fichier):\n",
    "    file = open(fichier, \"w\", newline='')\n",
    "    writer = csv.writer(file)\n",
    "    writer.writerows(tableau)"
   ]
  },
  {
   "cell_type": "markdown",
   "id": "responsible-swiss",
   "metadata": {},
   "source": [
    ">9. Exporter la liste `projection` dans un fichier appelé 'stations_retenues.txt'"
   ]
  },
  {
   "cell_type": "code",
   "execution_count": null,
   "id": "looking-junior",
   "metadata": {},
   "outputs": [],
   "source": []
  },
  {
   "cell_type": "markdown",
   "id": "animal-wings",
   "metadata": {},
   "source": [
    ">10. Ajouter des marqueurs sur la carte routière à partir du contenu du fichier *stations.txt*. Lien vers la carte interactive: [https://www.cahier-nsi.fr/livecsvmap2/](https://www.cahier-nsi.fr/livecsvmap2/)"
   ]
  },
  {
   "cell_type": "markdown",
   "id": "interim-commonwealth",
   "metadata": {},
   "source": [
    "# Exercice 3\n",
    "## Jointure de tables\n",
    "On cherche à aider Phyleas dans son choix pour ses arrêts. Une solution pourrait être de profiter du temps de recharge électrique de la voiture pour se restaurer. On dispose d'un 2e fichier CSV `snacks.csv`.\n",
    "\n",
    "Afin d'exploiter simultanément les informations provenant des 2 fichiers CSV, il faut les lier entre eux grâce à une opération appelée **fusion des tables**. \n",
    "\n",
    ">1. Importer les données du fichier *stations.txt* dans une varible appelée `stations`\n",
    "2. Importer les données du fichier *snacks.csv* dans une varible appelée `snacks`"
   ]
  },
  {
   "cell_type": "code",
   "execution_count": null,
   "id": "short-terrace",
   "metadata": {},
   "outputs": [],
   "source": []
  },
  {
   "cell_type": "markdown",
   "id": "bottom-penguin",
   "metadata": {},
   "source": [
    ">3. Expliquer comment utiliser le contenu des 2 tables pour se restaurer tout en rechargeant le vehicule electrique.\n",
    "4. Donner la liste des descripteurs communs aux 2 fichiers.\n",
    "5. Ecrire une fonction appelée `jointure`, qui prend 2 tables en paramètres, et retourne une nouvelle table issue de la fusion des 2 tables. Cette table fusionnée ne doit pas contenir 2 fois la même colonne. La table fusionnée doit mettre en correspondance, de manière pertinente, les lignes des 2 tables.\n"
   ]
  },
  {
   "cell_type": "code",
   "execution_count": null,
   "id": "awful-christopher",
   "metadata": {},
   "outputs": [],
   "source": []
  },
  {
   "cell_type": "markdown",
   "id": "noted-graph",
   "metadata": {},
   "source": [
    ">6. Utiliser cette fonction pour créer une nouvelle table appelée `station_et_snack`, issue de la fusion des 2 tables."
   ]
  },
  {
   "cell_type": "code",
   "execution_count": null,
   "id": "mighty-habitat",
   "metadata": {},
   "outputs": [],
   "source": []
  },
  {
   "cell_type": "markdown",
   "id": "engaged-russell",
   "metadata": {},
   "source": [
    ">7. Créer un nouveau fichier 'table_et_snack.txt' à partir de cette table, puis afficher les marqueurs sur la [carte](https://www.cahier-nsi.fr/livecsvmap2/)."
   ]
  },
  {
   "cell_type": "code",
   "execution_count": null,
   "id": "diverse-conflict",
   "metadata": {},
   "outputs": [],
   "source": []
  },
  {
   "cell_type": "code",
   "execution_count": null,
   "id": "handy-constraint",
   "metadata": {},
   "outputs": [],
   "source": []
  }
 ],
 "metadata": {
  "kernelspec": {
   "display_name": "Python 3",
   "language": "python",
   "name": "python3"
  },
  "language_info": {
   "codemirror_mode": {
    "name": "ipython",
    "version": 3
   },
   "file_extension": ".py",
   "mimetype": "text/x-python",
   "name": "python",
   "nbconvert_exporter": "python",
   "pygments_lexer": "ipython3",
   "version": "3.7.9"
  }
 },
 "nbformat": 4,
 "nbformat_minor": 5
}
